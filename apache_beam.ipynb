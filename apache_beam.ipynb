{
  "cells": [
    {
      "cell_type": "code",
      "source": [
        "# Reset any partial venv folders\n",
        "!rm -rf /content/beam_venv\n"
      ],
      "metadata": {
        "id": "Zhg2iUoMFfVH"
      },
      "execution_count": 3,
      "outputs": []
    },
    {
      "cell_type": "code",
      "source": [
        "# Create a new venv with full path to current Python\n",
        "!python3 -m venv /content/beam_venv\n"
      ],
      "metadata": {
        "id": "ysB-OWmxFjij",
        "outputId": "94d4adf0-91e5-4bf2-a565-0ad6d914f021",
        "colab": {
          "base_uri": "https://localhost:8080/"
        }
      },
      "execution_count": 4,
      "outputs": [
        {
          "output_type": "stream",
          "name": "stdout",
          "text": [
            "Error: Command '['/content/beam_venv/bin/python3', '-m', 'ensurepip', '--upgrade', '--default-pip']' returned non-zero exit status 1.\n"
          ]
        }
      ]
    },
    {
      "cell_type": "code",
      "source": [
        "# 1) make a fresh venv\n",
        "!rm -rf /content/beam_venv\n",
        "!python3 -m venv /content/beam_venv\n"
      ],
      "metadata": {
        "id": "XEKcandmGEXu",
        "outputId": "28033fa7-505f-4d0e-8249-cc624b7d4ec4",
        "colab": {
          "base_uri": "https://localhost:8080/"
        }
      },
      "execution_count": 5,
      "outputs": [
        {
          "output_type": "stream",
          "name": "stdout",
          "text": [
            "Error: Command '['/content/beam_venv/bin/python3', '-m', 'ensurepip', '--upgrade', '--default-pip']' returned non-zero exit status 1.\n"
          ]
        }
      ]
    },
    {
      "cell_type": "code",
      "source": [
        "# install virtualenv in the base colab env\n",
        "!pip install -q virtualenv\n"
      ],
      "metadata": {
        "id": "3U5BVDgdGaL6",
        "outputId": "da56e6bf-b5ac-4029-ab21-d99e87180824",
        "colab": {
          "base_uri": "https://localhost:8080/"
        }
      },
      "execution_count": 6,
      "outputs": [
        {
          "output_type": "stream",
          "name": "stdout",
          "text": [
            "\u001b[2K   \u001b[90m━━━━━━━━━━━━━━━━━━━━━━━━━━━━━━━━━━━━━━━━\u001b[0m \u001b[32m6.0/6.0 MB\u001b[0m \u001b[31m37.9 MB/s\u001b[0m eta \u001b[36m0:00:00\u001b[0m\n",
            "\u001b[2K   \u001b[90m━━━━━━━━━━━━━━━━━━━━━━━━━━━━━━━━━━━━━━━━\u001b[0m \u001b[32m469.0/469.0 kB\u001b[0m \u001b[31m18.4 MB/s\u001b[0m eta \u001b[36m0:00:00\u001b[0m\n",
            "\u001b[?25h"
          ]
        }
      ]
    },
    {
      "cell_type": "code",
      "source": [
        "# remove old broken env, if any\n",
        "!rm -rf /content/beam_venv\n",
        "\n",
        "# create a new one using virtualenv (this bypasses the broken ensurepip)\n",
        "!python3 -m virtualenv /content/beam_venv\n"
      ],
      "metadata": {
        "id": "ZqRPT-cBGgiO",
        "outputId": "b7a09649-fc14-4f93-c5db-7183194ae817",
        "colab": {
          "base_uri": "https://localhost:8080/"
        }
      },
      "execution_count": 7,
      "outputs": [
        {
          "output_type": "stream",
          "name": "stdout",
          "text": [
            "created virtual environment CPython3.12.12.final.0-64 in 517ms\n",
            "  creator CPython3Posix(dest=/content/beam_venv, clear=False, no_vcs_ignore=False, global=False)\n",
            "  seeder FromAppData(download=False, pip=bundle, via=copy, app_data_dir=/root/.local/share/virtualenv)\n",
            "    added seed packages: pip==25.3\n",
            "  activators BashActivator,CShellActivator,FishActivator,NushellActivator,PowerShellActivator,PythonActivator\n"
          ]
        }
      ]
    },
    {
      "cell_type": "code",
      "source": [
        "!ls /content/beam_venv/bin\n"
      ],
      "metadata": {
        "id": "tFh7qDOwGlqa",
        "outputId": "38d58043-eb14-4114-e931-e4983ca2c5fa",
        "colab": {
          "base_uri": "https://localhost:8080/"
        }
      },
      "execution_count": 8,
      "outputs": [
        {
          "output_type": "stream",
          "name": "stdout",
          "text": [
            "activate       activate.nu\t pip\t   pip3.12  python3.12\n",
            "activate.csh   activate.ps1\t pip3\t   python\n",
            "activate.fish  activate_this.py  pip-3.12  python3\n"
          ]
        }
      ]
    },
    {
      "cell_type": "code",
      "source": [
        "!/content/beam_venv/bin/pip install --quiet --upgrade pip setuptools wheel\n"
      ],
      "metadata": {
        "id": "QLzHIBYuGrqa"
      },
      "execution_count": 9,
      "outputs": []
    },
    {
      "cell_type": "code",
      "source": [
        "!/content/beam_venv/bin/pip install --quiet \"apache-beam[gcp]==2.58.0\"\n"
      ],
      "metadata": {
        "id": "WzDYj5LFGxLo"
      },
      "execution_count": 10,
      "outputs": []
    },
    {
      "cell_type": "code",
      "source": [
        "%%bash\n",
        "/content/beam_venv/bin/python - << 'PYCODE'\n",
        "import apache_beam as beam\n",
        "\n",
        "with beam.Pipeline() as p:\n",
        "    (\n",
        "        p\n",
        "        | \"Create\" >> beam.Create([\"hello from virtualenv beam\"])\n",
        "        | \"Print\" >> beam.Map(print)\n",
        "    )\n",
        "PYCODE\n"
      ],
      "metadata": {
        "id": "mnbtxCRbHKdS",
        "outputId": "1c2efab9-540b-4a26-fcf6-5338f22b53d2",
        "colab": {
          "base_uri": "https://localhost:8080/"
        }
      },
      "execution_count": 11,
      "outputs": [
        {
          "output_type": "stream",
          "name": "stdout",
          "text": [
            "hello from virtualenv beam\n"
          ]
        }
      ]
    },
    {
      "cell_type": "code",
      "source": [
        "def run_beam(code: str):\n",
        "    with open(\"/content/run_beam.py\", \"w\") as f:\n",
        "        f.write(code)\n",
        "    !/content/beam_venv/bin/python /content/run_beam.py\n"
      ],
      "metadata": {
        "id": "yb_n8hLbHVYv"
      },
      "execution_count": 12,
      "outputs": []
    },
    {
      "cell_type": "code",
      "source": [
        "run_beam(\"\"\"\n",
        "import apache_beam as beam\n",
        "with beam.Pipeline() as p:\n",
        "    (\n",
        "        p\n",
        "        | \"Create\" >> beam.Create([1,2,3])\n",
        "        | \"Double\" >> beam.Map(lambda x: x*2)\n",
        "        | \"Print\" >> beam.Map(print)\n",
        "    )\n",
        "\"\"\")\n"
      ],
      "metadata": {
        "id": "KZu75AyKHcjW",
        "outputId": "cef04ddf-2a48-4bd0-e207-6a8d559aec5a",
        "colab": {
          "base_uri": "https://localhost:8080/"
        }
      },
      "execution_count": 13,
      "outputs": [
        {
          "output_type": "stream",
          "name": "stdout",
          "text": [
            "2\n",
            "4\n",
            "6\n"
          ]
        }
      ]
    },
    {
      "cell_type": "code",
      "source": [
        "run_beam(\"\"\"\n",
        "import apache_beam as beam\n",
        "\n",
        "records = [\n",
        "    (\"store-1\", \"apple\", 3, 1.2),\n",
        "    (\"store-2\", \"banana\", 4, 0.8),\n",
        "]\n",
        "\n",
        "def to_amount(r):\n",
        "    store, product, qty, price = r\n",
        "    return {\n",
        "        \"store\": store,\n",
        "        \"product\": product,\n",
        "        \"amount\": qty * price,\n",
        "    }\n",
        "\n",
        "with beam.Pipeline() as p:\n",
        "    (\n",
        "        p\n",
        "        | \"Create records\" >> beam.Create(records)\n",
        "        | \"Map to amount\" >> beam.Map(to_amount)\n",
        "        | \"Print\" >> beam.Map(print)\n",
        "    )\n",
        "\"\"\")\n"
      ],
      "metadata": {
        "id": "r5JzwsUaIE1v",
        "outputId": "0841666b-46f3-4d02-aebf-205e5b54484f",
        "colab": {
          "base_uri": "https://localhost:8080/"
        }
      },
      "execution_count": 14,
      "outputs": [
        {
          "output_type": "stream",
          "name": "stdout",
          "text": [
            "{'store': 'store-1', 'product': 'apple', 'amount': 3.5999999999999996}\n",
            "{'store': 'store-2', 'product': 'banana', 'amount': 3.2}\n"
          ]
        }
      ]
    },
    {
      "cell_type": "code",
      "source": [
        "run_beam(\"\"\"\n",
        "import apache_beam as beam\n",
        "\n",
        "sales = [\n",
        "    (\"store-1\", \"apple\", 3, 1.2),\n",
        "    (\"store-2\", \"milk\", 1, 2.5),\n",
        "    (\"store-1\", \"banana\", 5, 0.8),\n",
        "]\n",
        "\n",
        "def is_store_1(x):\n",
        "    return x[0] == \"store-1\"\n",
        "\n",
        "with beam.Pipeline() as p:\n",
        "    (\n",
        "        p\n",
        "        | \"Create\" >> beam.Create(sales)\n",
        "        | \"Filter store-1\" >> beam.Filter(is_store_1)\n",
        "        | \"Print\" >> beam.Map(print)\n",
        "    )\n",
        "\"\"\")\n"
      ],
      "metadata": {
        "id": "K5HR-7cfII-c",
        "outputId": "30c5e68d-f25b-417b-dcb2-19f5ce139267",
        "colab": {
          "base_uri": "https://localhost:8080/"
        }
      },
      "execution_count": 15,
      "outputs": [
        {
          "output_type": "stream",
          "name": "stdout",
          "text": [
            "('store-1', 'apple', 3, 1.2)\n",
            "('store-1', 'banana', 5, 0.8)\n"
          ]
        }
      ]
    },
    {
      "cell_type": "code",
      "source": [
        "run_beam(\"\"\"\n",
        "import apache_beam as beam\n",
        "\n",
        "class ValidateAndCompute(beam.DoFn):\n",
        "    def process(self, element):\n",
        "        store, product, qty, price = element\n",
        "        # drop bad rows\n",
        "        if qty <= 0 or price <= 0:\n",
        "            return\n",
        "        yield {\n",
        "            \"store\": store,\n",
        "            \"product\": product,\n",
        "            \"amount\": qty * price,\n",
        "        }\n",
        "\n",
        "sales = [\n",
        "    (\"store-1\", \"apple\", 3, 1.2),\n",
        "    (\"store-2\", \"banana\", -1, 0.8),  # bad\n",
        "    (\"store-1\", \"milk\", 1, 2.5),\n",
        "]\n",
        "\n",
        "with beam.Pipeline() as p:\n",
        "    (\n",
        "        p\n",
        "        | \"Create\" >> beam.Create(sales)\n",
        "        | \"Validate + compute\" >> beam.ParDo(ValidateAndCompute())\n",
        "        | \"Print\" >> beam.Map(print)\n",
        "    )\n",
        "\"\"\")\n"
      ],
      "metadata": {
        "id": "TIoJUxuUINYw",
        "outputId": "af27aa33-61f0-4689-fb87-65d11e8ba3af",
        "colab": {
          "base_uri": "https://localhost:8080/"
        }
      },
      "execution_count": 16,
      "outputs": [
        {
          "output_type": "stream",
          "name": "stdout",
          "text": [
            "{'store': 'store-1', 'product': 'apple', 'amount': 3.5999999999999996}\n",
            "{'store': 'store-1', 'product': 'milk', 'amount': 2.5}\n"
          ]
        }
      ]
    },
    {
      "cell_type": "code",
      "source": [
        "run_beam(\"\"\"\n",
        "import apache_beam as beam\n",
        "\n",
        "class ValidateAndCompute(beam.DoFn):\n",
        "    def process(self, element):\n",
        "        store, product, qty, price = element\n",
        "        if qty <= 0 or price <= 0:\n",
        "            return\n",
        "        yield {\n",
        "            \"store\": store,\n",
        "            \"product\": product,\n",
        "            \"amount\": qty * price,\n",
        "        }\n",
        "\n",
        "class CleanAndSumPerStore(beam.PTransform):\n",
        "    def expand(self, pcoll):\n",
        "        return (\n",
        "            pcoll\n",
        "            | \"Validate\" >> beam.ParDo(ValidateAndCompute())\n",
        "            | \"Key by store\" >> beam.Map(lambda row: (row[\"store\"], row[\"amount\"]))\n",
        "            | \"Sum per store\" >> beam.CombinePerKey(sum)\n",
        "        )\n",
        "\n",
        "sales = [\n",
        "    (\"store-1\", \"apple\", 3, 1.2),\n",
        "    (\"store-1\", \"banana\", 5, 0.8),\n",
        "    (\"store-2\", \"milk\", 1, 2.5),\n",
        "]\n",
        "\n",
        "with beam.Pipeline() as p:\n",
        "    (\n",
        "        p\n",
        "        | \"Create\" >> beam.Create(sales)\n",
        "        | \"Apply composite\" >> CleanAndSumPerStore()\n",
        "        | \"Print\" >> beam.Map(print)\n",
        "    )\n",
        "\"\"\")\n"
      ],
      "metadata": {
        "id": "f2FKEiTEIR3I",
        "outputId": "f409f263-a19a-450c-c102-0878224c72e9",
        "colab": {
          "base_uri": "https://localhost:8080/"
        }
      },
      "execution_count": 17,
      "outputs": [
        {
          "output_type": "stream",
          "name": "stdout",
          "text": [
            "('store-1', 7.6)\n",
            "('store-2', 2.5)\n"
          ]
        }
      ]
    },
    {
      "cell_type": "code",
      "source": [
        "run_beam(\"\"\"\n",
        "import apache_beam as beam\n",
        "\n",
        "sales = [\n",
        "    (\"store-1\", \"apple\", 3, 1.2),\n",
        "    (\"store-2\", \"banana\", 4, 0.8),\n",
        "    (\"store-3\", \"milk\", 1, 2.5),\n",
        "]\n",
        "\n",
        "def partition_by_store(element, n_parts):\n",
        "    store = element[0]\n",
        "    if store == \"store-1\":\n",
        "        return 0\n",
        "    if store == \"store-2\":\n",
        "        return 1\n",
        "    return 2\n",
        "\n",
        "with beam.Pipeline() as p:\n",
        "    parts = (\n",
        "        p\n",
        "        | \"Create\" >> beam.Create(sales)\n",
        "        | \"Partition\" >> beam.Partition(partition_by_store, 3)\n",
        "    )\n",
        "\n",
        "    parts[0] | \"Print S1\" >> beam.Map(lambda x: print(\"STORE1:\", x))\n",
        "    parts[1] | \"Print S2\" >> beam.Map(lambda x: print(\"STORE2:\", x))\n",
        "    parts[2] | \"Print OTHER\" >> beam.Map(lambda x: print(\"OTHER:\", x))\n",
        "\"\"\")\n"
      ],
      "metadata": {
        "id": "HXDADqpJIYyR",
        "outputId": "66e648e1-2d2d-4bb6-ffdb-ae4c0b867b71",
        "colab": {
          "base_uri": "https://localhost:8080/"
        }
      },
      "execution_count": 18,
      "outputs": [
        {
          "output_type": "stream",
          "name": "stdout",
          "text": [
            "STORE1: ('store-1', 'apple', 3, 1.2)\n",
            "STORE2: ('store-2', 'banana', 4, 0.8)\n",
            "OTHER: ('store-3', 'milk', 1, 2.5)\n"
          ]
        }
      ]
    },
    {
      "cell_type": "code",
      "source": [
        "run_beam(\"\"\"\n",
        "import apache_beam as beam\n",
        "from apache_beam.transforms.window import FixedWindows\n",
        "import time\n",
        "\n",
        "now_ts = int(time.time())\n",
        "\n",
        "events = [\n",
        "    beam.window.TimestampedValue((\"store-1\", 10), now_ts),\n",
        "    beam.window.TimestampedValue((\"store-1\", 5),  now_ts + 5),\n",
        "    beam.window.TimestampedValue((\"store-1\", 20), now_ts + 65),\n",
        "]\n",
        "\n",
        "with beam.Pipeline() as p:\n",
        "    (\n",
        "        p\n",
        "        | \"Create events\" >> beam.Create(events)\n",
        "        | \"Window 60s\" >> beam.WindowInto(FixedWindows(60))\n",
        "        | \"Key\" >> beam.Map(lambda x: (x[0], x[1]))\n",
        "        | \"Sum per window\" >> beam.CombinePerKey(sum)\n",
        "        | \"Print\" >> beam.Map(print)\n",
        "    )\n",
        "\"\"\")\n"
      ],
      "metadata": {
        "id": "J7ze3B5gId63",
        "outputId": "2ae5cd6a-da6c-4b13-cb06-f10c48ef2034",
        "colab": {
          "base_uri": "https://localhost:8080/"
        }
      },
      "execution_count": 19,
      "outputs": [
        {
          "output_type": "stream",
          "name": "stdout",
          "text": [
            "('store-1', 15)\n",
            "('store-1', 20)\n"
          ]
        }
      ]
    },
    {
      "cell_type": "code",
      "source": [
        "run_beam(\"\"\"\n",
        "import apache_beam as beam\n",
        "\n",
        "output_path = \"/content/beam_output.txt\"\n",
        "\n",
        "with beam.Pipeline() as p:\n",
        "    (\n",
        "        p\n",
        "        | \"Create lines\" >> beam.Create([\"line-1\", \"line-2\", \"line-3\"])\n",
        "        | \"Write to text\" >> beam.io.WriteToText(output_path)\n",
        "    )\n",
        "\n",
        "print(\"wrote to\", output_path)\n",
        "\"\"\")\n"
      ],
      "metadata": {
        "id": "X7g-MDjBIiNB",
        "outputId": "17347755-8714-41fc-af32-5161cc0e9f27",
        "colab": {
          "base_uri": "https://localhost:8080/"
        }
      },
      "execution_count": 20,
      "outputs": [
        {
          "output_type": "stream",
          "name": "stdout",
          "text": [
            "wrote to /content/beam_output.txt\n"
          ]
        }
      ]
    },
    {
      "cell_type": "code",
      "source": [
        "!cat /content/beam_output.txt-00000-of-00001\n"
      ],
      "metadata": {
        "id": "dfBP5pfRIo3K",
        "outputId": "098301cc-ae48-4f9f-955c-dd4e2e728d08",
        "colab": {
          "base_uri": "https://localhost:8080/"
        }
      },
      "execution_count": 21,
      "outputs": [
        {
          "output_type": "stream",
          "name": "stdout",
          "text": [
            "line-1\n",
            "line-2\n",
            "line-3\n"
          ]
        }
      ]
    },
    {
      "cell_type": "code",
      "source": [
        "!git clone https://github.com/anuradha1105/apache_beam/\n",
        "%cd apache_beam\n"
      ],
      "metadata": {
        "id": "-CfRksXFL4Ap",
        "outputId": "51f96a24-1baa-4641-bcd7-14c9f9bc9a35",
        "colab": {
          "base_uri": "https://localhost:8080/"
        }
      },
      "execution_count": 23,
      "outputs": [
        {
          "output_type": "stream",
          "name": "stdout",
          "text": [
            "Cloning into 'apache_beam'...\n",
            "remote: Enumerating objects: 6, done.\u001b[K\n",
            "remote: Counting objects: 100% (6/6), done.\u001b[K\n",
            "remote: Compressing objects: 100% (3/3), done.\u001b[K\n",
            "Receiving objects: 100% (6/6), done.\n",
            "remote: Total 6 (delta 0), reused 0 (delta 0), pack-reused 0 (from 0)\u001b[K\n",
            "/content/apache_beam\n"
          ]
        }
      ]
    },
    {
      "cell_type": "markdown",
      "source": [
        "2. sales_input"
      ],
      "metadata": {
        "id": "_8H0dNPRNqdD"
      }
    },
    {
      "cell_type": "code",
      "source": [
        "# create a data folder and a sample input file\n",
        "import os\n",
        "\n",
        "os.makedirs(\"/content/data\", exist_ok=True)\n",
        "\n",
        "sales_text = \"\"\"store-1,apple,3,1.2\n",
        "store-1,banana,5,0.8\n",
        "store-2,apple,2,1.2\n",
        "store-3,milk,1,2.5\n",
        "store-2,orange,4,1.1\n",
        "store-1,milk,1,2.5\n",
        "store-3,apple,6,1.2\n",
        "store-2,banana,2,0.8\n",
        "store-3,yogurt,3,1.5\n",
        "store-1,bread,2,2.0\n",
        "store-2,bread,1,2.0\n",
        "store-1,juice,4,1.8\n",
        "store-3,juice,2,1.8\n",
        "store-2,milk,5,2.5\n",
        "store-1,apple,2,1.2\n",
        "store-3,banana,4,0.8\n",
        "store-2,apple,5,1.2\n",
        "store-1,milk,2,2.5\n",
        "store-2,orange,3,1.1\n",
        "store-3,milk,2,2.5\n",
        "\"\"\"\n",
        "\n",
        "with open(\"/content/data/sales_input.txt\", \"w\") as f:\n",
        "    f.write(sales_text)\n",
        "\n",
        "print(\"created /content/data/sales_input.txt\")\n"
      ],
      "metadata": {
        "id": "vaZBDZUxNkm4",
        "outputId": "3dde0c06-7e64-4233-88d0-7bec0e552616",
        "colab": {
          "base_uri": "https://localhost:8080/"
        }
      },
      "execution_count": 25,
      "outputs": [
        {
          "output_type": "stream",
          "name": "stdout",
          "text": [
            "created /content/data/sales_input.txt\n"
          ]
        }
      ]
    },
    {
      "cell_type": "markdown",
      "source": [
        "3) MAP demo"
      ],
      "metadata": {
        "id": "aF_2F9FsNzjt"
      }
    },
    {
      "cell_type": "code",
      "source": [
        "run_beam(\"\"\"\n",
        "import apache_beam as beam\n",
        "\n",
        "sample_sales = [\n",
        "    (\"store-1\", \"apple\", 3, 1.2),\n",
        "    (\"store-2\", \"banana\", 4, 0.8),\n",
        "    (\"store-3\", \"milk\", 1, 2.5),\n",
        "]\n",
        "\n",
        "def to_amount(row):\n",
        "    store, product, qty, price = row\n",
        "    return {\n",
        "        \"store\": store,\n",
        "        \"product\": product,\n",
        "        \"qty\": qty,\n",
        "        \"price\": price,\n",
        "        \"amount\": qty * price,\n",
        "    }\n",
        "\n",
        "with beam.Pipeline() as p:\n",
        "    (\n",
        "        p\n",
        "        | \"Create sales\" >> beam.Create(sample_sales)\n",
        "        | \"Add amount\" >> beam.Map(to_amount)\n",
        "        | \"Print after map\" >> beam.Map(lambda x: print(\"AFTER MAP:\", x))\n",
        "    )\n",
        "\"\"\")\n"
      ],
      "metadata": {
        "id": "hauCOcdWN3lt",
        "outputId": "ae5932ea-ec7a-4bc4-b528-04c66a8f2d32",
        "colab": {
          "base_uri": "https://localhost:8080/"
        }
      },
      "execution_count": 26,
      "outputs": [
        {
          "output_type": "stream",
          "name": "stdout",
          "text": [
            "AFTER MAP: {'store': 'store-1', 'product': 'apple', 'qty': 3, 'price': 1.2, 'amount': 3.5999999999999996}\n",
            "AFTER MAP: {'store': 'store-2', 'product': 'banana', 'qty': 4, 'price': 0.8, 'amount': 3.2}\n",
            "AFTER MAP: {'store': 'store-3', 'product': 'milk', 'qty': 1, 'price': 2.5, 'amount': 2.5}\n"
          ]
        }
      ]
    },
    {
      "cell_type": "markdown",
      "source": [
        "4) FILTER demo"
      ],
      "metadata": {
        "id": "8bxU7TuyODU0"
      }
    },
    {
      "cell_type": "code",
      "source": [
        "run_beam(\"\"\"\n",
        "import apache_beam as beam\n",
        "\n",
        "sample_sales = [\n",
        "    (\"store-1\", \"apple\", 3, 1.2),\n",
        "    (\"store-2\", \"banana\", 4, 0.8),\n",
        "    (\"store-1\", \"milk\", 1, 2.5),\n",
        "    (\"store-3\", \"milk\", 2, 2.5),\n",
        "]\n",
        "\n",
        "def is_store_1(row):\n",
        "    return row[0] == \"store-1\"\n",
        "\n",
        "with beam.Pipeline() as p:\n",
        "    (\n",
        "        p\n",
        "        | \"Create\" >> beam.Create(sample_sales)\n",
        "        | \"Filter store-1\" >> beam.Filter(is_store_1)\n",
        "        | \"Print after filter\" >> beam.Map(lambda x: print(\"AFTER FILTER:\", x))\n",
        "    )\n",
        "\"\"\")\n"
      ],
      "metadata": {
        "id": "_u4CsWbTODqG",
        "outputId": "9236f159-8115-4b08-da30-bec5b09ce91f",
        "colab": {
          "base_uri": "https://localhost:8080/"
        }
      },
      "execution_count": 27,
      "outputs": [
        {
          "output_type": "stream",
          "name": "stdout",
          "text": [
            "AFTER FILTER: ('store-1', 'apple', 3, 1.2)\n",
            "AFTER FILTER: ('store-1', 'milk', 1, 2.5)\n"
          ]
        }
      ]
    },
    {
      "cell_type": "markdown",
      "source": [
        "5) ParDo demo"
      ],
      "metadata": {
        "id": "cEPRJg-5OIWT"
      }
    },
    {
      "cell_type": "code",
      "source": [
        "run_beam(\"\"\"\n",
        "import apache_beam as beam\n",
        "\n",
        "class ValidateAndCompute(beam.DoFn):\n",
        "    def process(self, element):\n",
        "        store, product, qty, price = element\n",
        "        # drop bad rows\n",
        "        if qty <= 0 or price <= 0:\n",
        "            return\n",
        "        yield {\n",
        "            \"store\": store,\n",
        "            \"product\": product,\n",
        "            \"amount\": qty * price,\n",
        "        }\n",
        "\n",
        "sales = [\n",
        "    (\"store-1\", \"apple\", 3, 1.2),\n",
        "    (\"store-2\", \"banana\", -1, 0.8),  # bad\n",
        "    (\"store-1\", \"milk\", 1, 2.5),\n",
        "]\n",
        "\n",
        "with beam.Pipeline() as p:\n",
        "    (\n",
        "        p\n",
        "        | \"Create\" >> beam.Create(sales)\n",
        "        | \"Validate + compute\" >> beam.ParDo(ValidateAndCompute())\n",
        "        | \"Print after pardo\" >> beam.Map(lambda x: print(\"AFTER PARDO:\", x))\n",
        "    )\n",
        "\"\"\")\n"
      ],
      "metadata": {
        "id": "WxQY-SZzOLkb",
        "outputId": "d0f7c91a-3907-4f88-8094-e75cc3cd9a1f",
        "colab": {
          "base_uri": "https://localhost:8080/"
        }
      },
      "execution_count": 28,
      "outputs": [
        {
          "output_type": "stream",
          "name": "stdout",
          "text": [
            "AFTER PARDO: {'store': 'store-1', 'product': 'apple', 'amount': 3.5999999999999996}\n",
            "AFTER PARDO: {'store': 'store-1', 'product': 'milk', 'amount': 2.5}\n"
          ]
        }
      ]
    },
    {
      "cell_type": "markdown",
      "source": [
        "6) Composite transform"
      ],
      "metadata": {
        "id": "Ubd-CdoMORAC"
      }
    },
    {
      "cell_type": "code",
      "source": [
        "run_beam(\"\"\"\n",
        "import apache_beam as beam\n",
        "\n",
        "class ValidateAndCompute(beam.DoFn):\n",
        "    def process(self, element):\n",
        "        store, product, qty, price = element\n",
        "        if qty <= 0 or price <= 0:\n",
        "            return\n",
        "        yield {\n",
        "            \"store\": store,\n",
        "            \"product\": product,\n",
        "            \"amount\": qty * price,\n",
        "        }\n",
        "\n",
        "class CleanAndSumPerStore(beam.PTransform):\n",
        "    def expand(self, pcoll):\n",
        "        return (\n",
        "            pcoll\n",
        "            | \"Validate\" >> beam.ParDo(ValidateAndCompute())\n",
        "            | \"Key by store\" >> beam.Map(lambda row: (row[\"store\"], row[\"amount\"]))\n",
        "            | \"Sum per store\" >> beam.CombinePerKey(sum)\n",
        "        )\n",
        "\n",
        "sales = [\n",
        "    (\"store-1\", \"apple\", 3, 1.2),\n",
        "    (\"store-1\", \"banana\", 5, 0.8),\n",
        "    (\"store-2\", \"milk\", 1, 2.5),\n",
        "    (\"store-2\", \"orange\", 2, 1.1),\n",
        "]\n",
        "\n",
        "with beam.Pipeline() as p:\n",
        "    (\n",
        "        p\n",
        "        | \"Create\" >> beam.Create(sales)\n",
        "        | \"Apply composite\" >> CleanAndSumPerStore()\n",
        "        | \"Print composite\" >> beam.Map(lambda x: print(\"COMPOSITE:\", x))\n",
        "    )\n",
        "\"\"\")\n"
      ],
      "metadata": {
        "id": "zpYlJsiZORi5",
        "outputId": "477325fd-c59e-48c9-8e05-fe30f0022669",
        "colab": {
          "base_uri": "https://localhost:8080/"
        }
      },
      "execution_count": 29,
      "outputs": [
        {
          "output_type": "stream",
          "name": "stdout",
          "text": [
            "COMPOSITE: ('store-1', 7.6)\n",
            "COMPOSITE: ('store-2', 4.7)\n"
          ]
        }
      ]
    },
    {
      "cell_type": "markdown",
      "source": [
        "7) Partition"
      ],
      "metadata": {
        "id": "NZIhcXwBOXf2"
      }
    },
    {
      "cell_type": "code",
      "source": [],
      "metadata": {
        "id": "_05syF3kOYlK"
      },
      "execution_count": null,
      "outputs": []
    },
    {
      "cell_type": "code",
      "source": [
        "run_beam(\"\"\"\n",
        "import apache_beam as beam\n",
        "\n",
        "sales = [\n",
        "    (\"store-1\", \"apple\", 3, 1.2),\n",
        "    (\"store-2\", \"banana\", 4, 0.8),\n",
        "    (\"store-3\", \"milk\", 1, 2.5),\n",
        "    (\"store-1\", \"bread\", 2, 2.0),\n",
        "    (\"store-2\", \"juice\", 3, 1.8),\n",
        "]\n",
        "\n",
        "def partition_by_store(element, n_parts):\n",
        "    store = element[0]\n",
        "    if store == \"store-1\":\n",
        "        return 0\n",
        "    if store == \"store-2\":\n",
        "        return 1\n",
        "    return 2\n",
        "\n",
        "with beam.Pipeline() as p:\n",
        "    parts = (\n",
        "        p\n",
        "        | \"Create\" >> beam.Create(sales)\n",
        "        | \"Partition\" >> beam.Partition(partition_by_store, 3)\n",
        "    )\n",
        "\n",
        "    parts[0] | \"Print part 0\" >> beam.Map(lambda x: print(\"PART 0 (store-1):\", x))\n",
        "    parts[1] | \"Print part 1\" >> beam.Map(lambda x: print(\"PART 1 (store-2):\", x))\n",
        "    parts[2] | \"Print part 2\" >> beam.Map(lambda x: print(\"PART 2 (others):\", x))\n",
        "\"\"\")\n"
      ],
      "metadata": {
        "id": "U6nmR-KNOcoB",
        "outputId": "4e27cbfb-9894-4819-8a3a-d306f10a5f69",
        "colab": {
          "base_uri": "https://localhost:8080/"
        }
      },
      "execution_count": 30,
      "outputs": [
        {
          "output_type": "stream",
          "name": "stdout",
          "text": [
            "PART 0 (store-1): ('store-1', 'apple', 3, 1.2)\n",
            "PART 1 (store-2): ('store-2', 'banana', 4, 0.8)\n",
            "PART 2 (others): ('store-3', 'milk', 1, 2.5)\n",
            "PART 0 (store-1): ('store-1', 'bread', 2, 2.0)\n",
            "PART 1 (store-2): ('store-2', 'juice', 3, 1.8)\n"
          ]
        }
      ]
    },
    {
      "cell_type": "markdown",
      "source": [
        "8) Windowing"
      ],
      "metadata": {
        "id": "szSlL6zDOiqE"
      }
    },
    {
      "cell_type": "code",
      "source": [
        "run_beam(\"\"\"\n",
        "import apache_beam as beam\n",
        "from apache_beam.transforms.window import FixedWindows\n",
        "import time\n",
        "\n",
        "now_ts = int(time.time())\n",
        "\n",
        "events = [\n",
        "    beam.window.TimestampedValue((\"store-1\", 10), now_ts),\n",
        "    beam.window.TimestampedValue((\"store-1\", 5),  now_ts + 5),\n",
        "    beam.window.TimestampedValue((\"store-1\", 20), now_ts + 65),\n",
        "    beam.window.TimestampedValue((\"store-2\", 12), now_ts + 70),\n",
        "]\n",
        "\n",
        "class DebugWindow(beam.DoFn):\n",
        "    def process(self, element, window=beam.DoFn.WindowParam):\n",
        "        yield f\"WINDOW {window.start.to_utc_datetime()} - {window.end.to_utc_datetime()} :: {element}\"\n",
        "\n",
        "with beam.Pipeline() as p:\n",
        "    (\n",
        "        p\n",
        "        | \"Create events\" >> beam.Create(events)\n",
        "        | \"Apply 60s window\" >> beam.WindowInto(FixedWindows(60))\n",
        "        | \"Key by store\" >> beam.Map(lambda x: (x[0], x[1]))\n",
        "        | \"Sum per window\" >> beam.CombinePerKey(sum)\n",
        "        | \"Print windowed\" >> beam.ParDo(DebugWindow())\n",
        "        | \"Print final\" >> beam.Map(print)\n",
        "    )\n",
        "\"\"\")\n"
      ],
      "metadata": {
        "id": "MGVKBbSzOjNB",
        "outputId": "a2fe5b7d-8910-4fa8-c339-b317b96f389a",
        "colab": {
          "base_uri": "https://localhost:8080/"
        }
      },
      "execution_count": 31,
      "outputs": [
        {
          "output_type": "stream",
          "name": "stdout",
          "text": [
            "WINDOW 2025-10-30 22:26:00 - 2025-10-30 22:27:00 :: ('store-1', 15)\n",
            "WINDOW 2025-10-30 22:27:00 - 2025-10-30 22:28:00 :: ('store-1', 20)\n",
            "WINDOW 2025-10-30 22:27:00 - 2025-10-30 22:28:00 :: ('store-2', 12)\n"
          ]
        }
      ]
    },
    {
      "cell_type": "markdown",
      "source": [
        "9) Pipeline I/O\n",
        "\n",
        "9.1 Read sales_input.txt"
      ],
      "metadata": {
        "id": "WuFpPu5fOp9F"
      }
    },
    {
      "cell_type": "code",
      "source": [
        "run_beam(\"\"\"\n",
        "import apache_beam as beam\n",
        "\n",
        "input_path = \"/content/data/sales_input.txt\"\n",
        "\n",
        "with beam.Pipeline() as p:\n",
        "    (\n",
        "        p\n",
        "        | \"Read input\" >> beam.io.ReadFromText(input_path)\n",
        "        | \"Print lines\" >> beam.Map(lambda x: print(\"LINE:\", x))\n",
        "    )\n",
        "\"\"\")\n"
      ],
      "metadata": {
        "id": "DQL8EONdOrES",
        "outputId": "8f2a5263-8aa9-4078-dfa4-05f1c3b61f2e",
        "colab": {
          "base_uri": "https://localhost:8080/"
        }
      },
      "execution_count": 32,
      "outputs": [
        {
          "output_type": "stream",
          "name": "stdout",
          "text": [
            "LINE: store-1,apple,3,1.2\n",
            "LINE: store-1,banana,5,0.8\n",
            "LINE: store-2,apple,2,1.2\n",
            "LINE: store-3,milk,1,2.5\n",
            "LINE: store-2,orange,4,1.1\n",
            "LINE: store-1,milk,1,2.5\n",
            "LINE: store-3,apple,6,1.2\n",
            "LINE: store-2,banana,2,0.8\n",
            "LINE: store-3,yogurt,3,1.5\n",
            "LINE: store-1,bread,2,2.0\n",
            "LINE: store-2,bread,1,2.0\n",
            "LINE: store-1,juice,4,1.8\n",
            "LINE: store-3,juice,2,1.8\n",
            "LINE: store-2,milk,5,2.5\n",
            "LINE: store-1,apple,2,1.2\n",
            "LINE: store-3,banana,4,0.8\n",
            "LINE: store-2,apple,5,1.2\n",
            "LINE: store-1,milk,2,2.5\n",
            "LINE: store-2,orange,3,1.1\n",
            "LINE: store-3,milk,2,2.5\n"
          ]
        }
      ]
    },
    {
      "cell_type": "markdown",
      "source": [
        "9.2 Write an output file"
      ],
      "metadata": {
        "id": "U6PIk8ihOvSc"
      }
    },
    {
      "cell_type": "code",
      "source": [
        "run_beam(\"\"\"\n",
        "import apache_beam as beam\n",
        "\n",
        "output_path = \"/content/data/sales_output\"\n",
        "\n",
        "with beam.Pipeline() as p:\n",
        "    (\n",
        "        p\n",
        "        | \"Create lines\" >> beam.Create([\"ok-1\", \"ok-2\", \"ok-3\"])\n",
        "        | \"Write to text\" >> beam.io.WriteToText(output_path)\n",
        "    )\n",
        "\"\"\")\n",
        "\n",
        "# show what was written\n",
        "!cat /content/data/sales_output-00000-of-00001\n"
      ],
      "metadata": {
        "id": "QHZmE5qiO3Vw",
        "outputId": "4913d3de-ede8-4940-8593-01257765ee56",
        "colab": {
          "base_uri": "https://localhost:8080/"
        }
      },
      "execution_count": 33,
      "outputs": [
        {
          "output_type": "stream",
          "name": "stdout",
          "text": [
            "ok-1\n",
            "ok-2\n",
            "ok-3\n"
          ]
        }
      ]
    }
  ],
  "metadata": {
    "colab": {
      "name": "Welcome To Colab",
      "provenance": []
    },
    "kernelspec": {
      "display_name": "Python 3",
      "name": "python3"
    }
  },
  "nbformat": 4,
  "nbformat_minor": 0
}